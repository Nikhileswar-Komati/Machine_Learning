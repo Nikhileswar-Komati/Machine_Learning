{
  "nbformat": 4,
  "nbformat_minor": 0,
  "metadata": {
    "colab": {
      "name": "Untitled3.ipynb",
      "provenance": []
    },
    "kernelspec": {
      "name": "python3",
      "display_name": "Python 3"
    }
  },
  "cells": [
    {
      "cell_type": "code",
      "metadata": {
        "id": "lds-0tKnPRdX",
        "colab_type": "code",
        "colab": {}
      },
      "source": [
        "\n",
        "import zipfile\n",
        "import os\n",
        "from PIL import Image\n",
        "#import pytesseract\n",
        "import cv2 as cv\n",
        "import numpy as np\n",
        "\n",
        "# loading the face detection classifier\n",
        "face_cascade = cv.CascadeClassifier('readonly/haarcascade_frontalface_default.xml')"
      ],
      "execution_count": 0,
      "outputs": []
    },
    {
      "cell_type": "code",
      "metadata": {
        "id": "mKHQKThMPdEd",
        "colab_type": "code",
        "colab": {}
      },
      "source": [
        "import os\n",
        "#os.mkdir('small_img')\n",
        "local_zip = 'readonly/small_img.zip'\n",
        "zip_ref = zipfile.ZipFile(local_zip, 'r')\n",
        "zip_ref.extractall('small_img')\n",
        "zip_ref.close()\n",
        "\n",
        "\n",
        "os.mkdir('images')\n",
        "local_zip = 'readonly/images.zip'\n",
        "zip_ref = zipfile.ZipFile(local_zip, 'r')\n",
        "zip_ref.extractall('images')\n",
        "zip_ref.close()"
      ],
      "execution_count": 0,
      "outputs": []
    },
    {
      "cell_type": "code",
      "metadata": {
        "id": "Nxx9yeHzPtNe",
        "colab_type": "code",
        "colab": {}
      },
      "source": [
        "pages_list=os.listdir('small_img')\n",
        "\n",
        "Global_list=[]\n",
        "for page_name in pages_list:\n",
        "    local_list=[] \n",
        "    \n",
        "    #local list = [ page_name , tesseract_text ] \n",
        "    \n",
        "    local_list.append(page_name)\n",
        "    img = Image.open('small_img/'+page_name)\n",
        "    \n",
        "    local_list.append(pytesseract.image_to_string(img).replace('-\\n',''))\n",
        "\n",
        "    Global_list.append(local_list)"
      ],
      "execution_count": 0,
      "outputs": []
    },
    {
      "cell_type": "code",
      "metadata": {
        "id": "x73v3Rm1QVdb",
        "colab_type": "code",
        "colab": {}
      },
      "source": [
        "def search(text,folder):\n",
        "    for local_list in Global_list:\n",
        "        if text in local_list[1]:\n",
        "            print('Results found in file',local_list[0])\n",
        "            \n",
        "            try:\n",
        "                img = Image.open(str(folder+local_list[0]))\n",
        "                faces = (face_cascade.detectMultiScale(np.array(img),1.35,4)).tolist()\n",
        "#                 storing the bounding boxes of all faces detected in each image of iteration\n",
        "                faces_in_each = []\n",
        "                \n",
        "                for x,y,w,h in faces:\n",
        "                    faces_in_each.append(img.crop((x,y,x+w,y+h)))\n",
        "#                     modifying local data structure in each iteration to sotre PIL Image of each face\n",
        "#                     display((img.crop((x,y,x+w,y+h))).resize((110,110)))\n",
        "                \n",
        "                contact_sheet = Image.new(img.mode, (550,110*int(np.ceil(len(faces_in_each)/5))))\n",
        "#                 contact sheet modification to display each iteration's result\n",
        "                x = 0\n",
        "                y = 0\n",
        "\n",
        "                for face in faces_in_each:\n",
        "                    face.thumbnail((110,110))\n",
        "#                     using HINT 4\n",
        "                    contact_sheet.paste(face, (x, y))\n",
        "                    \n",
        "                    if x+110 == contact_sheet.width:\n",
        "                        x=0\n",
        "                        y=y+110\n",
        "                    else:\n",
        "                        x=x+110\n",
        "                        \n",
        "                display(contact_sheet)\n",
        "            except:\n",
        "                print('But there were no faces in that file!')"
      ],
      "execution_count": 0,
      "outputs": []
    },
    {
      "cell_type": "code",
      "metadata": {
        "id": "PAWOnY2JQZ0U",
        "colab_type": "code",
        "colab": {}
      },
      "source": [
        "search(\"Christopher\",'small_img/')"
      ],
      "execution_count": 0,
      "outputs": []
    },
    {
      "cell_type": "code",
      "metadata": {
        "id": "hswGH7OIQaAt",
        "colab_type": "code",
        "colab": {}
      },
      "source": [
        "pages_list=os.listdir('images')\n",
        "\n",
        "Global_list=[]\n",
        "for page_name in pages_list:\n",
        "    local_list=[] \n",
        "    \n",
        "    #local list = [ page_name , tesseract_text ] \n",
        "    \n",
        "    local_list.append(page_name)\n",
        "    img = Image.open('images/'+page_name)\n",
        "    \n",
        "    local_list.append(pytesseract.image_to_string(img).replace('-\\n',''))\n",
        "\n",
        "    Global_list.append(local_list)"
      ],
      "execution_count": 0,
      "outputs": []
    },
    {
      "cell_type": "code",
      "metadata": {
        "id": "bVmmDqLIQfop",
        "colab_type": "code",
        "colab": {}
      },
      "source": [
        "search(text=\"Mark\",folder='images/')"
      ],
      "execution_count": 0,
      "outputs": []
    }
  ]
}